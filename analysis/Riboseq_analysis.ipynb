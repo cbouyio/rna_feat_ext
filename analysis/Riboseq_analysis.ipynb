{
 "cells": [
  {
   "cell_type": "code",
   "execution_count": 44,
   "metadata": {},
   "outputs": [],
   "source": [
    "from statsmodels.stats.multicomp import pairwise_tukeyhsd\n",
    "import statsmodels.api as sm\n",
    "from statsmodels.formula.api import ols\n",
    "import pandas as pd\n",
    "from scipy import stats\n",
    "import matplotlib.pyplot as plt\n",
    "import numpy as np\n",
    "import math"
   ]
  },
  {
   "cell_type": "code",
   "execution_count": 2,
   "metadata": {},
   "outputs": [],
   "source": [
    "def read_csv(csv_file):\n",
    "    \n",
    "    # read csv file\n",
    "    df = pd.read_csv(csv_file)\n",
    "\n",
    "    # keep only Geneid, 'shScramble' and 'shDDX41'\n",
    "    filtered_df = df[['Geneid', 'shScramble', 'shDDX41']]\n",
    "    filtered_df = filtered_df.dropna(subset=['Geneid', 'shScramble', 'shDDX41'])\n",
    "\n",
    "    return filtered_df"
   ]
  },
  {
   "cell_type": "code",
   "execution_count": 3,
   "metadata": {},
   "outputs": [],
   "source": [
    "def tukey_test(df):\n",
    "    \n",
    "    melted_df = pd.melt(df, value_vars=['shScramble', 'shDDX41'], var_name='treatment', value_name='value')\n",
    "\n",
    "    # Effectuer l'ANOVA\n",
    "    model = ols('value ~ treatment', data=melted_df).fit()\n",
    "    anova_table = sm.stats.anova_lm(model, typ=2)\n",
    "    print(anova_table)\n",
    "\n",
    "    # Effectuer le test de Tukey\n",
    "    tukey = pairwise_tukeyhsd(endog=melted_df['value'], groups=melted_df['treatment'], alpha=0.05)\n",
    "    print(tukey)"
   ]
  },
  {
   "cell_type": "code",
   "execution_count": 4,
   "metadata": {},
   "outputs": [],
   "source": [
    "def deviation(arr):\n",
    "    median = np.median(arr)\n",
    "    deviation = np.median(np.abs(arr - median))\n",
    "    return deviation\n"
   ]
  },
  {
   "cell_type": "code",
   "execution_count": 51,
   "metadata": {},
   "outputs": [],
   "source": [
    "def median_absolute_deviation(df, column_name, n=4):\n",
    "        \n",
    "    median = np.median(df.loc[:, column_name])\n",
    "    MAD = stats.median_abs_deviation(df.loc[:, column_name])\n",
    "    MAD_val_plus = median + n * MAD\n",
    "    MAD_val_minus = median - n * MAD\n",
    "    print(median, MAD)\n",
    "    \n",
    "    values_above_MAD = df[df.loc[:, column_name] > MAD_val_plus]\n",
    "    values_below_MAD = df[df.loc[:, column_name] < MAD_val_minus]\n",
    "    #values_above_MAD.merge(values_below_MAD, how='inner', on='Geneid')\n",
    "        \n",
    "    return (values_below_MAD, values_above_MAD)"
   ]
  },
  {
   "cell_type": "code",
   "execution_count": 52,
   "metadata": {},
   "outputs": [],
   "source": [
    "def visualisation(df):\n",
    "\n",
    "    #df['Difference'] = df['shScramble'] - df['shDDX41']\n",
    "\n",
    "    # Créer l'histogramme\n",
    "    plt.figure(figsize=(10, 6))\n",
    "    #plt.hist(df['Scrbl-Sh'], bins=50, edgecolor='black')\n",
    "    plt.hist(df['Scrbl-Sh'], bins=50, edgecolor='black')\n",
    "    plt.title('Histogramme de la différence entre shScramble et shDDX41')\n",
    "    plt.xlabel('Différence')\n",
    "    plt.ylabel('Fréquence')\n",
    "    plt.grid(True)\n",
    "    plt.show()\n"
   ]
  },
  {
   "cell_type": "code",
   "execution_count": 53,
   "metadata": {},
   "outputs": [
    {
     "name": "stdout",
     "output_type": "stream",
     "text": [
      "                 sum_sq       df         F    PR(>F)\n",
      "treatment  2.149223e+02      1.0  0.005739  0.939612\n",
      "Residual   1.323253e+09  35336.0       NaN       NaN\n",
      "  Multiple Comparison of Means - Tukey HSD, FWER=0.05   \n",
      "========================================================\n",
      " group1   group2   meandiff p-adj   lower  upper  reject\n",
      "--------------------------------------------------------\n",
      "shDDX41 shScramble    0.156 0.9396 -3.8794 4.1914  False\n",
      "--------------------------------------------------------\n",
      "0        0.000000\n",
      "1        0.000000\n",
      "2        0.000000\n",
      "3       -0.002270\n",
      "4       -0.631989\n",
      "           ...   \n",
      "17664    0.000000\n",
      "17665    0.000000\n",
      "17666   -0.739177\n",
      "17667   -0.076689\n",
      "17668   -0.403506\n",
      "Name: Scrbl-Sh, Length: 17669, dtype: float64\n"
     ]
    },
    {
     "data": {
      "image/png": "[encoded data removed]",
      "text/plain": [
       "<Figure size 720x432 with 1 Axes>"
      ]
     },
     "metadata": {
      "needs_background": "light"
     },
     "output_type": "display_data"
    },
    {
     "name": "stdout",
     "output_type": "stream",
     "text": [
      "0.0 0.4251471010034278\n"
     ]
    },
    {
     "data": {
      "text/plain": [
       "(                   Geneid  shScramble     shDDX41  Scrbl-Sh\n",
       " 12     ENSG00000131591.18   12.865117   30.399322 -1.926760\n",
       " 20     ENSG00000162572.21    0.000000    3.581078 -1.892374\n",
       " 28     ENSG00000175756.14  609.731055  810.626203 -3.778765\n",
       " 30      ENSG00000242485.6  152.157316  222.258923 -2.573144\n",
       " 36     ENSG00000197785.14   50.075017  107.758960 -3.304331\n",
       " ...                   ...         ...         ...       ...\n",
       " 17607  ENSG00000131408.15   84.202425  139.433624 -2.632014\n",
       " 17613  ENSG00000142530.11    2.880379   11.570410 -1.704363\n",
       " 17615  ENSG00000161677.12   38.108191  107.851555 -4.211977\n",
       " 17622   ENSG00000142511.4    0.000000    3.786141 -1.945801\n",
       " 17623   ENSG00000261341.7    0.000000    6.159760 -2.481886\n",
       " \n",
       " [1433 rows x 4 columns],\n",
       "                    Geneid   shScramble      shDDX41  Scrbl-Sh\n",
       " 10     ENSG00000188157.15    97.366780    28.574967  4.521905\n",
       " 16     ENSG00000078808.20   320.587577   234.796486  2.581889\n",
       " 17      ENSG00000176022.7    23.878910     5.138623  2.619752\n",
       " 27     ENSG00000162576.17   165.112857    25.203656  7.829300\n",
       " 108    ENSG00000074800.16  1440.062680  1001.268047  6.305338\n",
       " ...                   ...          ...          ...       ...\n",
       " 17617  ENSG00000131409.13    64.045166    27.368914  2.771292\n",
       " 17621  ENSG00000105472.14   178.067723    94.472724  3.624494\n",
       " 17650   ENSG00000160318.6    53.802796    24.937437  2.341299\n",
       " 17651  ENSG00000105374.10    36.362835     5.216735  3.746143\n",
       " 17653   ENSG00000262874.2     3.267971     0.000000  1.807753\n",
       " \n",
       " [1301 rows x 4 columns])"
      ]
     },
     "execution_count": 53,
     "metadata": {},
     "output_type": "execute_result"
    }
   ],
   "source": [
    "csv_file = 'donnees_Riboseq.csv'\n",
    "df = read_csv(csv_file)\n",
    "tukey_test(df)\n",
    "#visualisation(df)\n",
    "\n",
    "# Calculate the scramble-sh difference, and then apply the MAD\n",
    "diff = df['shScramble'] - df[\"shDDX41\"]\n",
    "#diffScrblSh = pd.DataFrame({'GeneID' : df[[\"Geneid\"]], 'Scrbl-Sh' : diff}, index='GeneID')\n",
    "\n",
    "df[\"Scrbl-Sh\"] =  np.sqrt(df['shScramble']) - np.sqrt(df[\"shDDX41\"])  # This is the difference of the normalised values now\n",
    "\n",
    "print(df[\"Scrbl-Sh\"])\n",
    "\n",
    "#mad_shScramble = median_absolute_deviation(df[['Geneid', 'shScramble']])\n",
    "#mad_shDDX41 = median_absolute_deviation(df[['Geneid', 'shDDX41']])\n",
    "\n",
    "visualisation(df)\n",
    "\n",
    "median_absolute_deviation(df, 'Scrbl-Sh')\n",
    "\n",
    "# Afficher les résultats\n",
    "#print(f'Median Absolute Deviation for shScramble: {mad_shScramble}')\n",
    "#print(f'Median Absolute Deviation for shDDX41: {mad_shDDX41}')\n",
    "\n",
    "\n"
   ]
  },
  {
   "cell_type": "code",
   "execution_count": null,
   "metadata": {},
   "outputs": [],
   "source": []
  }
 ],
 "metadata": {
  "kernelspec": {
   "display_name": "Python 3 (ipykernel)",
   "language": "python",
   "name": "python3"
  },
  "language_info": {
   "codemirror_mode": {
    "name": "ipython",
    "version": 3
   },
   "file_extension": ".py",
   "mimetype": "text/x-python",
   "name": "python",
   "nbconvert_exporter": "python",
   "pygments_lexer": "ipython3",
   "version": "3.10.12"
  }
 },
 "nbformat": 4,
 "nbformat_minor": 4
}
