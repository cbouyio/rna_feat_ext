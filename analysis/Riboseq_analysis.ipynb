{
 "cells": [
  {
   "cell_type": "code",
   "execution_count": null,
   "metadata": {},
   "outputs": [],
   "source": [
    "from statsmodels.stats.multicomp import pairwise_tukeyhsd\n",
    "import statsmodels.api as sm\n",
    "from statsmodels.formula.api import ols\n",
    "import pandas as pd\n",
    "from scipy import stats\n",
    "import matplotlib.pyplot as plt\n"
   ]
  },
  {
   "cell_type": "code",
   "execution_count": null,
   "metadata": {},
   "outputs": [],
   "source": [
    "def read_csv(csv_file):\n",
    "    \n",
    "    # read csv file\n",
    "    df = pd.read_csv(csv_file)\n",
    "\n",
    "    # keep only Geneid, 'shScramble' and 'shDDX41'\n",
    "    filtered_df = df[['Geneid', 'shScramble', 'shDDX41']]\n",
    "    filtered_df = filtered_df.dropna(subset=['Geneid', 'shScramble', 'shDDX41'])\n",
    "\n",
    "    return filtered_df"
   ]
  },
  {
   "cell_type": "code",
   "execution_count": null,
   "metadata": {},
   "outputs": [],
   "source": [
    "def tukey_test(df):\n",
    "    \n",
    "    melted_df = pd.melt(df, value_vars=['shScramble', 'shDDX41'], var_name='treatment', value_name='value')\n",
    "\n",
    "    # Effectuer l'ANOVA\n",
    "    model = ols('value ~ treatment', data=melted_df).fit()\n",
    "    anova_table = sm.stats.anova_lm(model, typ=2)\n",
    "    print(anova_table)\n",
    "\n",
    "    # Effectuer le test de Tukey\n",
    "    tukey = pairwise_tukeyhsd(endog=melted_df['value'], groups=melted_df['treatment'], alpha=0.05)\n",
    "    print(tukey)"
   ]
  },
  {
   "cell_type": "code",
   "execution_count": null,
   "metadata": {},
   "outputs": [],
   "source": [
    "def deviation(arr):\n",
    "    median = np.median(arr)\n",
    "    deviation = np.median(np.abs(arr - median))\n",
    "    return deviation\n"
   ]
  },
  {
   "cell_type": "code",
   "execution_count": null,
   "metadata": {},
   "outputs": [],
   "source": [
    "def median_absolute_deviation(df):\n",
    "        \n",
    "    median = df.iloc[:, 1].std()\n",
    "    MAD = stats.median_abs_deviation(df.iloc[:, 1])\n",
    "    MAD_val_plus = median + 2 * MAD\n",
    "    MAD_val_minus = median - 2 * MAD\n",
    "    print(median, MAD)\n",
    "    \n",
    "    values_above_MAD = df[df.iloc[:, 1] > MAD_val_plus]\n",
    "    values_below_MAD = df[df.iloc[:, 1] < MAD_val_minus]\n",
    "    #values_above_MAD.merge(values_below_MAD, how='inner', on='Geneid')\n",
    "        \n",
    "    return values_below_MAD"
   ]
  },
  {
   "cell_type": "code",
   "execution_count": null,
   "metadata": {},
   "outputs": [],
   "source": [
    "def visualisation(df):\n",
    "\n",
    "    df['Difference'] = df['shScramble'] - df['shDDX41']\n",
    "    \n",
    "    \n",
    "\n",
    "    # Créer l'histogramme\n",
    "    plt.figure(figsize=(10, 6))\n",
    "    plt.hist(df['Difference'], bins=50, edgecolor='black')\n",
    "    plt.title('Histogramme de la différence entre shScramble et shDDX41')\n",
    "    plt.xlabel('Différence')\n",
    "    plt.ylabel('Fréquence')\n",
    "    plt.grid(True)\n",
    "    plt.show()\n"
   ]
  },
  {
   "cell_type": "code",
   "execution_count": null,
   "metadata": {},
   "outputs": [],
   "source": [
    "csv_file = 'donnees_Riboseq.csv'\n",
    "df = read_csv(csv_file)\n",
    "tukey_test(df)\n",
    "visualisation(df)\n",
    "mad_shScramble = median_absolute_deviation(df[['Geneid', 'shScramble']])\n",
    "mad_shDDX41 = median_absolute_deviation(df[['Geneid', 'shDDX41']])\n",
    "\n",
    "# Afficher les résultats\n",
    "#print(f'Median Absolute Deviation for shScramble: {mad_shScramble}')\n",
    "#print(f'Median Absolute Deviation for shDDX41: {mad_shDDX41}')\n",
    "\n",
    "\n"
   ]
  }
 ],
 "metadata": {
  "kernelspec": {
   "display_name": "Python 3",
   "language": "python",
   "name": "python3"
  },
  "language_info": {
   "codemirror_mode": {
    "name": "ipython",
    "version": 3
   },
   "file_extension": ".py",
   "mimetype": "text/x-python",
   "name": "python",
   "nbconvert_exporter": "python",
   "pygments_lexer": "ipython3",
   "version": "3.11.2"
  }
 },
 "nbformat": 4,
 "nbformat_minor": 2
}
